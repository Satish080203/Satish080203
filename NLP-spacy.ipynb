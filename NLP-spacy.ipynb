{
 "cells": [
  {
   "cell_type": "code",
   "execution_count": 1,
   "id": "6d19a0e7-079f-451f-b083-33a034b6b74f",
   "metadata": {},
   "outputs": [
    {
     "name": "stdout",
     "output_type": "stream",
     "text": [
      "Collecting spacyNote: you may need to restart the kernel to use updated packages.\n",
      "\n",
      "  Downloading spacy-3.8.4-cp312-cp312-win_amd64.whl.metadata (27 kB)\n",
      "Collecting spacy-legacy<3.1.0,>=3.0.11 (from spacy)\n",
      "  Downloading spacy_legacy-3.0.12-py2.py3-none-any.whl.metadata (2.8 kB)\n",
      "Collecting spacy-loggers<2.0.0,>=1.0.0 (from spacy)\n",
      "  Downloading spacy_loggers-1.0.5-py3-none-any.whl.metadata (23 kB)\n",
      "Collecting murmurhash<1.1.0,>=0.28.0 (from spacy)\n",
      "  Downloading murmurhash-1.0.12-cp312-cp312-win_amd64.whl.metadata (2.2 kB)\n",
      "Collecting cymem<2.1.0,>=2.0.2 (from spacy)\n",
      "  Downloading cymem-2.0.11-cp312-cp312-win_amd64.whl.metadata (8.8 kB)\n",
      "Collecting preshed<3.1.0,>=3.0.2 (from spacy)\n",
      "  Downloading preshed-3.0.9-cp312-cp312-win_amd64.whl.metadata (2.2 kB)\n",
      "Collecting thinc<8.4.0,>=8.3.4 (from spacy)\n",
      "  Downloading thinc-8.3.4-cp312-cp312-win_amd64.whl.metadata (15 kB)\n",
      "Collecting wasabi<1.2.0,>=0.9.1 (from spacy)\n",
      "  Downloading wasabi-1.1.3-py3-none-any.whl.metadata (28 kB)\n",
      "Collecting srsly<3.0.0,>=2.4.3 (from spacy)\n",
      "  Downloading srsly-2.5.1-cp312-cp312-win_amd64.whl.metadata (20 kB)\n",
      "Collecting catalogue<2.1.0,>=2.0.6 (from spacy)\n",
      "  Downloading catalogue-2.0.10-py3-none-any.whl.metadata (14 kB)\n",
      "Collecting weasel<0.5.0,>=0.1.0 (from spacy)\n",
      "  Downloading weasel-0.4.1-py3-none-any.whl.metadata (4.6 kB)\n",
      "Requirement already satisfied: typer<1.0.0,>=0.3.0 in d:\\jupyter\\lib\\site-packages (from spacy) (0.9.0)\n",
      "Requirement already satisfied: tqdm<5.0.0,>=4.38.0 in d:\\jupyter\\lib\\site-packages (from spacy) (4.66.5)\n",
      "Requirement already satisfied: numpy>=1.19.0 in d:\\jupyter\\lib\\site-packages (from spacy) (1.26.4)\n",
      "Requirement already satisfied: requests<3.0.0,>=2.13.0 in d:\\jupyter\\lib\\site-packages (from spacy) (2.32.3)\n",
      "Requirement already satisfied: pydantic!=1.8,!=1.8.1,<3.0.0,>=1.7.4 in d:\\jupyter\\lib\\site-packages (from spacy) (2.8.2)\n",
      "Requirement already satisfied: jinja2 in d:\\jupyter\\lib\\site-packages (from spacy) (3.1.4)\n",
      "Requirement already satisfied: setuptools in d:\\jupyter\\lib\\site-packages (from spacy) (75.1.0)\n",
      "Requirement already satisfied: packaging>=20.0 in d:\\jupyter\\lib\\site-packages (from spacy) (24.1)\n",
      "Collecting langcodes<4.0.0,>=3.2.0 (from spacy)\n",
      "  Downloading langcodes-3.5.0-py3-none-any.whl.metadata (29 kB)\n",
      "Collecting language-data>=1.2 (from langcodes<4.0.0,>=3.2.0->spacy)\n",
      "  Downloading language_data-1.3.0-py3-none-any.whl.metadata (4.3 kB)\n",
      "Requirement already satisfied: annotated-types>=0.4.0 in d:\\jupyter\\lib\\site-packages (from pydantic!=1.8,!=1.8.1,<3.0.0,>=1.7.4->spacy) (0.6.0)\n",
      "Requirement already satisfied: pydantic-core==2.20.1 in d:\\jupyter\\lib\\site-packages (from pydantic!=1.8,!=1.8.1,<3.0.0,>=1.7.4->spacy) (2.20.1)\n",
      "Requirement already satisfied: typing-extensions>=4.6.1 in d:\\jupyter\\lib\\site-packages (from pydantic!=1.8,!=1.8.1,<3.0.0,>=1.7.4->spacy) (4.11.0)\n",
      "Requirement already satisfied: charset-normalizer<4,>=2 in d:\\jupyter\\lib\\site-packages (from requests<3.0.0,>=2.13.0->spacy) (3.3.2)\n",
      "Requirement already satisfied: idna<4,>=2.5 in d:\\jupyter\\lib\\site-packages (from requests<3.0.0,>=2.13.0->spacy) (3.7)\n",
      "Requirement already satisfied: urllib3<3,>=1.21.1 in d:\\jupyter\\lib\\site-packages (from requests<3.0.0,>=2.13.0->spacy) (2.2.3)\n",
      "Requirement already satisfied: certifi>=2017.4.17 in d:\\jupyter\\lib\\site-packages (from requests<3.0.0,>=2.13.0->spacy) (2024.12.14)\n",
      "Collecting blis<1.3.0,>=1.2.0 (from thinc<8.4.0,>=8.3.4->spacy)\n",
      "  Downloading blis-1.2.0-cp312-cp312-win_amd64.whl.metadata (7.9 kB)\n",
      "Collecting confection<1.0.0,>=0.0.1 (from thinc<8.4.0,>=8.3.4->spacy)\n",
      "  Downloading confection-0.1.5-py3-none-any.whl.metadata (19 kB)\n",
      "Requirement already satisfied: colorama in d:\\jupyter\\lib\\site-packages (from tqdm<5.0.0,>=4.38.0->spacy) (0.4.6)\n",
      "Requirement already satisfied: click<9.0.0,>=7.1.1 in d:\\jupyter\\lib\\site-packages (from typer<1.0.0,>=0.3.0->spacy) (8.1.7)\n",
      "Collecting cloudpathlib<1.0.0,>=0.7.0 (from weasel<0.5.0,>=0.1.0->spacy)\n",
      "  Downloading cloudpathlib-0.21.0-py3-none-any.whl.metadata (14 kB)\n",
      "Requirement already satisfied: smart-open<8.0.0,>=5.2.1 in d:\\jupyter\\lib\\site-packages (from weasel<0.5.0,>=0.1.0->spacy) (5.2.1)\n",
      "Requirement already satisfied: MarkupSafe>=2.0 in d:\\jupyter\\lib\\site-packages (from jinja2->spacy) (2.1.3)\n",
      "Collecting marisa-trie>=1.1.0 (from language-data>=1.2->langcodes<4.0.0,>=3.2.0->spacy)\n",
      "  Downloading marisa_trie-1.2.1-cp312-cp312-win_amd64.whl.metadata (9.3 kB)\n",
      "Downloading spacy-3.8.4-cp312-cp312-win_amd64.whl (11.8 MB)\n",
      "   ---------------------------------------- 0.0/11.8 MB ? eta -:--:--\n",
      "    --------------------------------------- 0.3/11.8 MB ? eta -:--:--\n",
      "   -- ------------------------------------- 0.8/11.8 MB 2.6 MB/s eta 0:00:05\n",
      "   ---- ----------------------------------- 1.3/11.8 MB 2.5 MB/s eta 0:00:05\n",
      "   ------ --------------------------------- 1.8/11.8 MB 2.6 MB/s eta 0:00:04\n",
      "   -------- ------------------------------- 2.6/11.8 MB 2.8 MB/s eta 0:00:04\n",
      "   ------------ --------------------------- 3.7/11.8 MB 3.3 MB/s eta 0:00:03\n",
      "   ----------------- ---------------------- 5.2/11.8 MB 4.0 MB/s eta 0:00:02\n",
      "   ------------------------ --------------- 7.1/11.8 MB 4.7 MB/s eta 0:00:02\n",
      "   ----------------------------- ---------- 8.7/11.8 MB 5.1 MB/s eta 0:00:01\n",
      "   ---------------------------------------  11.5/11.8 MB 6.0 MB/s eta 0:00:01\n",
      "   ---------------------------------------  11.5/11.8 MB 6.0 MB/s eta 0:00:01\n",
      "   ---------------------------------------- 11.8/11.8 MB 5.3 MB/s eta 0:00:00\n",
      "Downloading catalogue-2.0.10-py3-none-any.whl (17 kB)\n",
      "Downloading cymem-2.0.11-cp312-cp312-win_amd64.whl (39 kB)\n",
      "Downloading langcodes-3.5.0-py3-none-any.whl (182 kB)\n",
      "Downloading murmurhash-1.0.12-cp312-cp312-win_amd64.whl (25 kB)\n",
      "Downloading preshed-3.0.9-cp312-cp312-win_amd64.whl (122 kB)\n",
      "Downloading spacy_legacy-3.0.12-py2.py3-none-any.whl (29 kB)\n",
      "Downloading spacy_loggers-1.0.5-py3-none-any.whl (22 kB)\n",
      "Downloading srsly-2.5.1-cp312-cp312-win_amd64.whl (632 kB)\n",
      "   ---------------------------------------- 0.0/632.6 kB ? eta -:--:--\n",
      "   ---------------------------------------- 632.6/632.6 kB 2.6 MB/s eta 0:00:00\n",
      "Downloading thinc-8.3.4-cp312-cp312-win_amd64.whl (1.5 MB)\n",
      "   ---------------------------------------- 0.0/1.5 MB ? eta -:--:--\n",
      "   ------------------------------------ --- 1.3/1.5 MB 8.4 MB/s eta 0:00:01\n",
      "   ---------------------------------------- 1.5/1.5 MB 5.5 MB/s eta 0:00:00\n",
      "Downloading wasabi-1.1.3-py3-none-any.whl (27 kB)\n",
      "Downloading weasel-0.4.1-py3-none-any.whl (50 kB)\n",
      "Downloading blis-1.2.0-cp312-cp312-win_amd64.whl (6.3 MB)\n",
      "   ---------------------------------------- 0.0/6.3 MB ? eta -:--:--\n",
      "   ---------- ----------------------------- 1.6/6.3 MB 7.0 MB/s eta 0:00:01\n",
      "   ---------------------------- ----------- 4.5/6.3 MB 10.3 MB/s eta 0:00:01\n",
      "   -------------------------------------- - 6.0/6.3 MB 10.5 MB/s eta 0:00:01\n",
      "   ---------------------------------------- 6.3/6.3 MB 8.2 MB/s eta 0:00:00\n",
      "Downloading cloudpathlib-0.21.0-py3-none-any.whl (52 kB)\n",
      "Downloading confection-0.1.5-py3-none-any.whl (35 kB)\n",
      "Downloading language_data-1.3.0-py3-none-any.whl (5.4 MB)\n",
      "   ---------------------------------------- 0.0/5.4 MB ? eta -:--:--\n",
      "   ------------- -------------------------- 1.8/5.4 MB 7.7 MB/s eta 0:00:01\n",
      "   ------------------------------- -------- 4.2/5.4 MB 9.0 MB/s eta 0:00:01\n",
      "   -------------------------------------- - 5.2/5.4 MB 9.1 MB/s eta 0:00:01\n",
      "   ---------------------------------------- 5.4/5.4 MB 6.7 MB/s eta 0:00:00\n",
      "Downloading marisa_trie-1.2.1-cp312-cp312-win_amd64.whl (150 kB)\n",
      "Installing collected packages: cymem, wasabi, spacy-loggers, spacy-legacy, murmurhash, marisa-trie, cloudpathlib, catalogue, blis, srsly, preshed, language-data, langcodes, confection, weasel, thinc, spacy\n",
      "Successfully installed blis-1.2.0 catalogue-2.0.10 cloudpathlib-0.21.0 confection-0.1.5 cymem-2.0.11 langcodes-3.5.0 language-data-1.3.0 marisa-trie-1.2.1 murmurhash-1.0.12 preshed-3.0.9 spacy-3.8.4 spacy-legacy-3.0.12 spacy-loggers-1.0.5 srsly-2.5.1 thinc-8.3.4 wasabi-1.1.3 weasel-0.4.1\n"
     ]
    }
   ],
   "source": [
    "pip install spacy"
   ]
  },
  {
   "cell_type": "code",
   "execution_count": 3,
   "id": "a951b6be-3a8a-4f68-b7ea-95fb291ecb62",
   "metadata": {},
   "outputs": [],
   "source": [
    "import spacy"
   ]
  },
  {
   "cell_type": "code",
   "execution_count": 11,
   "id": "7630afb8-dde4-4492-98e2-e6908024c224",
   "metadata": {},
   "outputs": [
    {
     "name": "stdout",
     "output_type": "stream",
     "text": [
      "Dr.\n",
      "Strange\n",
      "loves\n",
      "pav\n",
      "bhaji\n",
      "of\n",
      "mumbai\n",
      "as\n",
      "it\n",
      "costs\n",
      "only\n",
      "2\n",
      "$\n",
      "per\n",
      "plate\n",
      ".\n"
     ]
    }
   ],
   "source": [
    "nlp=spacy.blank(\"en\")\n",
    "doc=nlp(\"Dr. Strange loves pav bhaji of mumbai as it costs only 2$ per plate.\")\n",
    "for token in doc:\n",
    "    print(token)"
   ]
  },
  {
   "cell_type": "code",
   "execution_count": 15,
   "id": "bec6f2bd-5a22-451d-9ebd-ab0881ec5d13",
   "metadata": {},
   "outputs": [
    {
     "data": {
      "text/plain": [
       "Dr."
      ]
     },
     "execution_count": 15,
     "metadata": {},
     "output_type": "execute_result"
    }
   ],
   "source": [
    "doc[0]"
   ]
  },
  {
   "cell_type": "code",
   "execution_count": 17,
   "id": "a7861101-e220-4dff-8e52-7edfa861e6a6",
   "metadata": {},
   "outputs": [
    {
     "data": {
      "text/plain": [
       "Dr. Strange loves pav bhaji"
      ]
     },
     "execution_count": 17,
     "metadata": {},
     "output_type": "execute_result"
    }
   ],
   "source": [
    "doc[0:5]"
   ]
  },
  {
   "cell_type": "code",
   "execution_count": 19,
   "id": "eac3e1bd-e7a8-4c62-beeb-61ed72039c19",
   "metadata": {},
   "outputs": [
    {
     "data": {
      "text/plain": [
       "loves"
      ]
     },
     "execution_count": 19,
     "metadata": {},
     "output_type": "execute_result"
    }
   ],
   "source": [
    "token=doc[2]\n",
    "token"
   ]
  },
  {
   "cell_type": "code",
   "execution_count": 21,
   "id": "f7b17929-7ca3-404c-be15-95ca23788a8d",
   "metadata": {},
   "outputs": [
    {
     "data": {
      "text/plain": [
       "['_',\n",
       " '__bytes__',\n",
       " '__class__',\n",
       " '__delattr__',\n",
       " '__dir__',\n",
       " '__doc__',\n",
       " '__eq__',\n",
       " '__format__',\n",
       " '__ge__',\n",
       " '__getattribute__',\n",
       " '__getstate__',\n",
       " '__gt__',\n",
       " '__hash__',\n",
       " '__init__',\n",
       " '__init_subclass__',\n",
       " '__le__',\n",
       " '__len__',\n",
       " '__lt__',\n",
       " '__ne__',\n",
       " '__new__',\n",
       " '__pyx_vtable__',\n",
       " '__reduce__',\n",
       " '__reduce_ex__',\n",
       " '__repr__',\n",
       " '__setattr__',\n",
       " '__sizeof__',\n",
       " '__str__',\n",
       " '__subclasshook__',\n",
       " '__unicode__',\n",
       " 'ancestors',\n",
       " 'check_flag',\n",
       " 'children',\n",
       " 'cluster',\n",
       " 'conjuncts',\n",
       " 'dep',\n",
       " 'dep_',\n",
       " 'doc',\n",
       " 'ent_id',\n",
       " 'ent_id_',\n",
       " 'ent_iob',\n",
       " 'ent_iob_',\n",
       " 'ent_kb_id',\n",
       " 'ent_kb_id_',\n",
       " 'ent_type',\n",
       " 'ent_type_',\n",
       " 'get_extension',\n",
       " 'has_dep',\n",
       " 'has_extension',\n",
       " 'has_head',\n",
       " 'has_morph',\n",
       " 'has_vector',\n",
       " 'head',\n",
       " 'i',\n",
       " 'idx',\n",
       " 'iob_strings',\n",
       " 'is_alpha',\n",
       " 'is_ancestor',\n",
       " 'is_ascii',\n",
       " 'is_bracket',\n",
       " 'is_currency',\n",
       " 'is_digit',\n",
       " 'is_left_punct',\n",
       " 'is_lower',\n",
       " 'is_oov',\n",
       " 'is_punct',\n",
       " 'is_quote',\n",
       " 'is_right_punct',\n",
       " 'is_sent_end',\n",
       " 'is_sent_start',\n",
       " 'is_space',\n",
       " 'is_stop',\n",
       " 'is_title',\n",
       " 'is_upper',\n",
       " 'lang',\n",
       " 'lang_',\n",
       " 'left_edge',\n",
       " 'lefts',\n",
       " 'lemma',\n",
       " 'lemma_',\n",
       " 'lex',\n",
       " 'lex_id',\n",
       " 'like_email',\n",
       " 'like_num',\n",
       " 'like_url',\n",
       " 'lower',\n",
       " 'lower_',\n",
       " 'morph',\n",
       " 'n_lefts',\n",
       " 'n_rights',\n",
       " 'nbor',\n",
       " 'norm',\n",
       " 'norm_',\n",
       " 'orth',\n",
       " 'orth_',\n",
       " 'pos',\n",
       " 'pos_',\n",
       " 'prefix',\n",
       " 'prefix_',\n",
       " 'prob',\n",
       " 'rank',\n",
       " 'remove_extension',\n",
       " 'right_edge',\n",
       " 'rights',\n",
       " 'sent',\n",
       " 'sent_start',\n",
       " 'sentiment',\n",
       " 'set_extension',\n",
       " 'set_morph',\n",
       " 'shape',\n",
       " 'shape_',\n",
       " 'similarity',\n",
       " 'subtree',\n",
       " 'suffix',\n",
       " 'suffix_',\n",
       " 'tag',\n",
       " 'tag_',\n",
       " 'tensor',\n",
       " 'text',\n",
       " 'text_with_ws',\n",
       " 'vector',\n",
       " 'vector_norm',\n",
       " 'vocab',\n",
       " 'whitespace_']"
      ]
     },
     "execution_count": 21,
     "metadata": {},
     "output_type": "execute_result"
    }
   ],
   "source": [
    "dir(token)"
   ]
  },
  {
   "cell_type": "code",
   "execution_count": 23,
   "id": "4eb92ec7-a6de-426b-b778-f6860ffc3e3d",
   "metadata": {},
   "outputs": [
    {
     "data": {
      "text/plain": [
       "spacy.lang.en.English"
      ]
     },
     "execution_count": 23,
     "metadata": {},
     "output_type": "execute_result"
    }
   ],
   "source": [
    "type(nlp)"
   ]
  },
  {
   "cell_type": "code",
   "execution_count": 25,
   "id": "a35ef040-99c7-4e9b-93ee-ef5cbd2a4187",
   "metadata": {},
   "outputs": [
    {
     "data": {
      "text/plain": [
       "spacy.tokens.doc.Doc"
      ]
     },
     "execution_count": 25,
     "metadata": {},
     "output_type": "execute_result"
    }
   ],
   "source": [
    "type(doc)"
   ]
  },
  {
   "cell_type": "code",
   "execution_count": 27,
   "id": "df95cd6b-0795-47a3-aabb-e586c418cde6",
   "metadata": {},
   "outputs": [
    {
     "data": {
      "text/plain": [
       "spacy.tokens.token.Token"
      ]
     },
     "execution_count": 27,
     "metadata": {},
     "output_type": "execute_result"
    }
   ],
   "source": [
    "type(token)"
   ]
  },
  {
   "cell_type": "code",
   "execution_count": 29,
   "id": "5d6c5381-4845-40e8-bed0-abbecba93f92",
   "metadata": {},
   "outputs": [
    {
     "data": {
      "text/plain": [
       "Dr. Strange loves pav bhaji"
      ]
     },
     "execution_count": 29,
     "metadata": {},
     "output_type": "execute_result"
    }
   ],
   "source": [
    "span=doc[0:5]\n",
    "span"
   ]
  },
  {
   "cell_type": "code",
   "execution_count": 31,
   "id": "26dd7730-42da-44a0-b8dd-d21f1514d0b5",
   "metadata": {},
   "outputs": [
    {
     "data": {
      "text/plain": [
       "spacy.tokens.span.Span"
      ]
     },
     "execution_count": 31,
     "metadata": {},
     "output_type": "execute_result"
    }
   ],
   "source": [
    "type(span)"
   ]
  },
  {
   "cell_type": "code",
   "execution_count": 33,
   "id": "0efc2272-9a3a-4c10-9890-bcd08a95f388",
   "metadata": {},
   "outputs": [],
   "source": [
    "doc=nlp(\"Tony gave two $ to peter\")"
   ]
  },
  {
   "cell_type": "code",
   "execution_count": 35,
   "id": "989651af-f970-4ef0-9fb9-8f6f01201ae7",
   "metadata": {},
   "outputs": [
    {
     "data": {
      "text/plain": [
       "Tony"
      ]
     },
     "execution_count": 35,
     "metadata": {},
     "output_type": "execute_result"
    }
   ],
   "source": [
    "token_0=doc[0]\n",
    "token_0"
   ]
  },
  {
   "cell_type": "code",
   "execution_count": 37,
   "id": "eaa03859-cb07-4c31-83f7-e1c5c61b778d",
   "metadata": {},
   "outputs": [
    {
     "data": {
      "text/plain": [
       "True"
      ]
     },
     "execution_count": 37,
     "metadata": {},
     "output_type": "execute_result"
    }
   ],
   "source": [
    "token_0.is_alpha"
   ]
  },
  {
   "cell_type": "code",
   "execution_count": 41,
   "id": "79cb9c4a-878c-487e-b96d-4e0fa3106a0e",
   "metadata": {},
   "outputs": [
    {
     "data": {
      "text/plain": [
       "False"
      ]
     },
     "execution_count": 41,
     "metadata": {},
     "output_type": "execute_result"
    }
   ],
   "source": [
    "token_0.like_num"
   ]
  },
  {
   "cell_type": "code",
   "execution_count": 45,
   "id": "decba034-c87a-48e3-875b-81b4acf4ba8d",
   "metadata": {},
   "outputs": [
    {
     "data": {
      "text/plain": [
       "two"
      ]
     },
     "execution_count": 45,
     "metadata": {},
     "output_type": "execute_result"
    }
   ],
   "source": [
    "token_2=doc[2]\n",
    "token_2"
   ]
  },
  {
   "cell_type": "code",
   "execution_count": 47,
   "id": "705e196e-2ccb-453f-9000-3536769c9b2a",
   "metadata": {},
   "outputs": [
    {
     "data": {
      "text/plain": [
       "True"
      ]
     },
     "execution_count": 47,
     "metadata": {},
     "output_type": "execute_result"
    }
   ],
   "source": [
    "token_2.like_num"
   ]
  },
  {
   "cell_type": "code",
   "execution_count": 49,
   "id": "d0f9a5f1-21aa-4aba-a48a-790d996ec3af",
   "metadata": {},
   "outputs": [
    {
     "data": {
      "text/plain": [
       "$"
      ]
     },
     "execution_count": 49,
     "metadata": {},
     "output_type": "execute_result"
    }
   ],
   "source": [
    "token_3 = doc[3]\n",
    "token_3"
   ]
  },
  {
   "cell_type": "code",
   "execution_count": 51,
   "id": "d45f0df2-2da9-41af-b82a-bfb8a47aec6b",
   "metadata": {},
   "outputs": [
    {
     "data": {
      "text/plain": [
       "True"
      ]
     },
     "execution_count": 51,
     "metadata": {},
     "output_type": "execute_result"
    }
   ],
   "source": [
    "token_3.is_currency"
   ]
  },
  {
   "cell_type": "code",
   "execution_count": 53,
   "id": "5a5bb3e2-6e1a-40ec-b0de-1fabb91533fa",
   "metadata": {},
   "outputs": [
    {
     "name": "stdout",
     "output_type": "stream",
     "text": [
      "Tony ==> index:  0 is_alpha: True is_punct: False like_num: False is_currency: False\n",
      "gave ==> index:  1 is_alpha: True is_punct: False like_num: False is_currency: False\n",
      "two ==> index:  2 is_alpha: True is_punct: False like_num: True is_currency: False\n",
      "$ ==> index:  3 is_alpha: False is_punct: False like_num: False is_currency: True\n",
      "to ==> index:  4 is_alpha: True is_punct: False like_num: False is_currency: False\n",
      "peter ==> index:  5 is_alpha: True is_punct: False like_num: False is_currency: False\n"
     ]
    }
   ],
   "source": [
    "for token in doc:\n",
    "    print(token, \"==>\", \"index: \", token.i, \"is_alpha:\", token.is_alpha, \n",
    "          \"is_punct:\", token.is_punct, \n",
    "          \"like_num:\", token.like_num,\n",
    "          \"is_currency:\", token.is_currency,\n",
    "         )"
   ]
  },
  {
   "cell_type": "code",
   "execution_count": 55,
   "id": "d9016134-c6fe-43a9-b729-971eb470a0a0",
   "metadata": {},
   "outputs": [
    {
     "name": "stdout",
     "output_type": "stream",
     "text": [
      "भैया False\n",
      "जी False\n",
      "! False\n",
      "5000 False\n",
      "₹ True\n",
      "उधार False\n",
      "थे False\n",
      "वो False\n",
      "वापस False\n",
      "देदो False\n"
     ]
    }
   ],
   "source": [
    "nlp = spacy.blank(\"hi\")\n",
    "doc = nlp(\"भैया जी! 5000 ₹ उधार थे वो वापस देदो\")\n",
    "for token in doc:\n",
    "    print(token, token.is_currency)"
   ]
  },
  {
   "cell_type": "code",
   "execution_count": 57,
   "id": "461bc365-102b-4fb9-8bb6-176ccb729e6e",
   "metadata": {},
   "outputs": [
    {
     "data": {
      "text/plain": [
       "['gimme', 'double', 'cheese', 'extra', 'large', 'healthy', 'pizza']"
      ]
     },
     "execution_count": 57,
     "metadata": {},
     "output_type": "execute_result"
    }
   ],
   "source": [
    "from spacy.symbols import ORTH\n",
    "\n",
    "nlp = spacy.blank(\"en\")\n",
    "doc = nlp(\"gimme double cheese extra large healthy pizza\")\n",
    "tokens = [token.text for token in doc]\n",
    "tokens"
   ]
  },
  {
   "cell_type": "code",
   "execution_count": 59,
   "id": "5ea348d8-c883-4cd4-947c-9099dc9eadc2",
   "metadata": {},
   "outputs": [
    {
     "data": {
      "text/plain": [
       "['gim', 'me', 'double', 'cheese', 'extra', 'large', 'healthy', 'pizza']"
      ]
     },
     "execution_count": 59,
     "metadata": {},
     "output_type": "execute_result"
    }
   ],
   "source": [
    "\n",
    "nlp.tokenizer.add_special_case(\"gimme\", [\n",
    "    {ORTH: \"gim\"},\n",
    "    {ORTH: \"me\"},\n",
    "])\n",
    "doc = nlp(\"gimme double cheese extra large healthy pizza\")\n",
    "tokens = [token.text for token in doc]\n",
    "tokens"
   ]
  },
  {
   "cell_type": "code",
   "execution_count": 61,
   "id": "5ac9cd02-6e25-4503-acc8-a8fcd58eb4ff",
   "metadata": {},
   "outputs": [
    {
     "ename": "ValueError",
     "evalue": "[E030] Sentence boundaries unset. You can add the 'sentencizer' component to the pipeline with: `nlp.add_pipe('sentencizer')`. Alternatively, add the dependency parser or sentence recognizer, or set sentence boundaries by setting `doc[i].is_sent_start`.",
     "output_type": "error",
     "traceback": [
      "\u001b[1;31m---------------------------------------------------------------------------\u001b[0m",
      "\u001b[1;31mValueError\u001b[0m                                Traceback (most recent call last)",
      "Cell \u001b[1;32mIn[61], line 2\u001b[0m\n\u001b[0;32m      1\u001b[0m doc \u001b[38;5;241m=\u001b[39m nlp(\u001b[38;5;124m\"\u001b[39m\u001b[38;5;124mDr. Strange loves pav bhaji of mumbai. Hulk loves chat of delhi\u001b[39m\u001b[38;5;124m\"\u001b[39m)\n\u001b[1;32m----> 2\u001b[0m \u001b[38;5;28;01mfor\u001b[39;00m sentence \u001b[38;5;129;01min\u001b[39;00m doc\u001b[38;5;241m.\u001b[39msents:\n\u001b[0;32m      3\u001b[0m     \u001b[38;5;28mprint\u001b[39m(sentence)\n",
      "File \u001b[1;32mD:\\jupyter\\Lib\\site-packages\\spacy\\tokens\\doc.pyx:926\u001b[0m, in \u001b[0;36msents\u001b[1;34m()\u001b[0m\n",
      "\u001b[1;31mValueError\u001b[0m: [E030] Sentence boundaries unset. You can add the 'sentencizer' component to the pipeline with: `nlp.add_pipe('sentencizer')`. Alternatively, add the dependency parser or sentence recognizer, or set sentence boundaries by setting `doc[i].is_sent_start`."
     ]
    }
   ],
   "source": [
    "doc = nlp(\"Dr. Strange loves pav bhaji of mumbai. Hulk loves chat of delhi\")\n",
    "for sentence in doc.sents:\n",
    "    print(sentence)"
   ]
  },
  {
   "cell_type": "code",
   "execution_count": 63,
   "id": "6b3ebd66-8c00-4c98-a70a-504dae0a1889",
   "metadata": {},
   "outputs": [
    {
     "data": {
      "text/plain": [
       "[]"
      ]
     },
     "execution_count": 63,
     "metadata": {},
     "output_type": "execute_result"
    }
   ],
   "source": [
    "nlp.pipeline"
   ]
  },
  {
   "cell_type": "code",
   "execution_count": 65,
   "id": "638dae77-a7f8-4ba3-a3b5-c3a09455aa57",
   "metadata": {},
   "outputs": [
    {
     "data": {
      "text/plain": [
       "<spacy.pipeline.sentencizer.Sentencizer at 0x2bacf9d2790>"
      ]
     },
     "execution_count": 65,
     "metadata": {},
     "output_type": "execute_result"
    }
   ],
   "source": [
    "nlp.add_pipe('sentencizer')"
   ]
  },
  {
   "cell_type": "code",
   "execution_count": 67,
   "id": "32b3bb9e-70ae-43f4-8559-e9b58626666a",
   "metadata": {},
   "outputs": [
    {
     "name": "stdout",
     "output_type": "stream",
     "text": [
      "Dr. Strange loves pav bhaji of mumbai.\n",
      "Hulk loves chat of delhi\n"
     ]
    }
   ],
   "source": [
    "doc = nlp(\"Dr. Strange loves pav bhaji of mumbai. Hulk loves chat of delhi\")\n",
    "for sentence in doc.sents:\n",
    "    print(sentence)"
   ]
  },
  {
   "cell_type": "code",
   "execution_count": 69,
   "id": "a2c6cdc0-abed-44df-9e9e-de4046748673",
   "metadata": {},
   "outputs": [
    {
     "data": {
      "text/plain": [
       "[('sentencizer', <spacy.pipeline.sentencizer.Sentencizer at 0x2bacf9d2790>)]"
      ]
     },
     "execution_count": 69,
     "metadata": {},
     "output_type": "execute_result"
    }
   ],
   "source": [
    "nlp.pipeline"
   ]
  },
  {
   "cell_type": "code",
   "execution_count": 73,
   "id": "63653934-0e7a-4bba-a186-d799464aca55",
   "metadata": {},
   "outputs": [
    {
     "name": "stdout",
     "output_type": "stream",
     "text": [
      "Collecting en-core-web-sm==3.8.0\n",
      "  Downloading https://github.com/explosion/spacy-models/releases/download/en_core_web_sm-3.8.0/en_core_web_sm-3.8.0-py3-none-any.whl (12.8 MB)\n",
      "     ---------------------------------------- 0.0/12.8 MB ? eta -:--:--\n",
      "     ---------------------------------------- 0.0/12.8 MB ? eta -:--:--\n",
      "     ---------------------------------------- 0.0/12.8 MB ? eta -:--:--\n",
      "      --------------------------------------- 0.3/12.8 MB ? eta -:--:--\n",
      "      --------------------------------------- 0.3/12.8 MB ? eta -:--:--\n",
      "      --------------------------------------- 0.3/12.8 MB ? eta -:--:--\n",
      "      --------------------------------------- 0.3/12.8 MB ? eta -:--:--\n",
      "      --------------------------------------- 0.3/12.8 MB ? eta -:--:--\n",
      "      --------------------------------------- 0.3/12.8 MB ? eta -:--:--\n",
      "     - ------------------------------------- 0.5/12.8 MB 182.3 kB/s eta 0:01:08\n",
      "     - ------------------------------------- 0.5/12.8 MB 182.3 kB/s eta 0:01:08\n",
      "     - ------------------------------------- 0.5/12.8 MB 182.3 kB/s eta 0:01:08\n",
      "     - ------------------------------------- 0.5/12.8 MB 182.3 kB/s eta 0:01:08\n",
      "     - ------------------------------------- 0.5/12.8 MB 182.3 kB/s eta 0:01:08\n",
      "     - ------------------------------------- 0.5/12.8 MB 182.3 kB/s eta 0:01:08\n",
      "     - ------------------------------------- 0.5/12.8 MB 182.3 kB/s eta 0:01:08\n",
      "     - ------------------------------------- 0.5/12.8 MB 182.3 kB/s eta 0:01:08\n",
      "     - ------------------------------------- 0.5/12.8 MB 182.3 kB/s eta 0:01:08\n",
      "     - ------------------------------------- 0.5/12.8 MB 182.3 kB/s eta 0:01:08\n",
      "     -- ------------------------------------ 0.8/12.8 MB 145.9 kB/s eta 0:01:23\n",
      "     -- ------------------------------------ 0.8/12.8 MB 145.9 kB/s eta 0:01:23\n",
      "     -- ------------------------------------ 0.8/12.8 MB 145.9 kB/s eta 0:01:23\n",
      "     -- ------------------------------------ 0.8/12.8 MB 145.9 kB/s eta 0:01:23\n",
      "     -- ------------------------------------ 0.8/12.8 MB 145.9 kB/s eta 0:01:23\n",
      "     -- ------------------------------------ 0.8/12.8 MB 145.9 kB/s eta 0:01:23\n",
      "     -- ------------------------------------ 0.8/12.8 MB 145.9 kB/s eta 0:01:23\n",
      "     -- ------------------------------------ 0.8/12.8 MB 145.9 kB/s eta 0:01:23\n",
      "     -- ------------------------------------ 0.8/12.8 MB 145.9 kB/s eta 0:01:23\n",
      "     -- ------------------------------------ 0.8/12.8 MB 145.9 kB/s eta 0:01:23\n",
      "     -- ------------------------------------ 0.8/12.8 MB 145.9 kB/s eta 0:01:23\n",
      "     -- ------------------------------------ 0.8/12.8 MB 145.9 kB/s eta 0:01:23\n",
      "     -- ------------------------------------ 0.8/12.8 MB 145.9 kB/s eta 0:01:23\n",
      "     --- ----------------------------------- 1.0/12.8 MB 125.5 kB/s eta 0:01:34\n",
      "     --- ----------------------------------- 1.0/12.8 MB 125.5 kB/s eta 0:01:34\n",
      "     --- ----------------------------------- 1.0/12.8 MB 125.5 kB/s eta 0:01:34\n",
      "     --- ----------------------------------- 1.0/12.8 MB 125.5 kB/s eta 0:01:34\n",
      "     --- ----------------------------------- 1.0/12.8 MB 125.5 kB/s eta 0:01:34\n",
      "     --- ----------------------------------- 1.0/12.8 MB 125.5 kB/s eta 0:01:34\n",
      "     --- ----------------------------------- 1.0/12.8 MB 125.5 kB/s eta 0:01:34\n",
      "     --- ----------------------------------- 1.0/12.8 MB 125.5 kB/s eta 0:01:34\n",
      "     --- ----------------------------------- 1.0/12.8 MB 125.5 kB/s eta 0:01:34\n",
      "     --- ----------------------------------- 1.0/12.8 MB 125.5 kB/s eta 0:01:34\n",
      "     --- ----------------------------------- 1.3/12.8 MB 123.8 kB/s eta 0:01:33\n",
      "     --- ----------------------------------- 1.3/12.8 MB 123.8 kB/s eta 0:01:33\n",
      "     --- ----------------------------------- 1.3/12.8 MB 123.8 kB/s eta 0:01:33\n",
      "     --- ----------------------------------- 1.3/12.8 MB 123.8 kB/s eta 0:01:33\n",
      "     --- ----------------------------------- 1.3/12.8 MB 123.8 kB/s eta 0:01:33\n",
      "     --- ----------------------------------- 1.3/12.8 MB 123.8 kB/s eta 0:01:33\n",
      "     --- ----------------------------------- 1.3/12.8 MB 123.8 kB/s eta 0:01:33\n",
      "     --- ----------------------------------- 1.3/12.8 MB 123.8 kB/s eta 0:01:33\n",
      "     --- ----------------------------------- 1.3/12.8 MB 123.8 kB/s eta 0:01:33\n",
      "     --- ----------------------------------- 1.3/12.8 MB 123.8 kB/s eta 0:01:33\n",
      "     --- ----------------------------------- 1.3/12.8 MB 123.8 kB/s eta 0:01:33\n",
      "     ---- ---------------------------------- 1.6/12.8 MB 120.7 kB/s eta 0:01:34\n",
      "     ---- ---------------------------------- 1.6/12.8 MB 120.7 kB/s eta 0:01:34\n",
      "     ---- ---------------------------------- 1.6/12.8 MB 120.7 kB/s eta 0:01:34\n",
      "     ---- ---------------------------------- 1.6/12.8 MB 120.7 kB/s eta 0:01:34\n",
      "     ---- ---------------------------------- 1.6/12.8 MB 120.7 kB/s eta 0:01:34\n",
      "     ---- ---------------------------------- 1.6/12.8 MB 120.7 kB/s eta 0:01:34\n",
      "     ---- ---------------------------------- 1.6/12.8 MB 120.7 kB/s eta 0:01:34\n",
      "     ---- ---------------------------------- 1.6/12.8 MB 120.7 kB/s eta 0:01:34\n",
      "     ---- ---------------------------------- 1.6/12.8 MB 120.7 kB/s eta 0:01:34\n",
      "     ---- ---------------------------------- 1.6/12.8 MB 120.7 kB/s eta 0:01:34\n",
      "     ---- ---------------------------------- 1.6/12.8 MB 120.7 kB/s eta 0:01:34\n",
      "     ---- ---------------------------------- 1.6/12.8 MB 120.7 kB/s eta 0:01:34\n",
      "     ----- --------------------------------- 1.8/12.8 MB 117.2 kB/s eta 0:01:34\n",
      "     ----- --------------------------------- 1.8/12.8 MB 117.2 kB/s eta 0:01:34\n",
      "     ----- --------------------------------- 1.8/12.8 MB 117.2 kB/s eta 0:01:34\n",
      "     ----- --------------------------------- 1.8/12.8 MB 117.2 kB/s eta 0:01:34\n",
      "     ----- --------------------------------- 1.8/12.8 MB 117.2 kB/s eta 0:01:34\n",
      "     ----- --------------------------------- 1.8/12.8 MB 117.2 kB/s eta 0:01:34\n",
      "     ----- --------------------------------- 1.8/12.8 MB 117.2 kB/s eta 0:01:34\n",
      "     ----- --------------------------------- 1.8/12.8 MB 117.2 kB/s eta 0:01:34\n",
      "     ----- --------------------------------- 1.8/12.8 MB 117.2 kB/s eta 0:01:34\n",
      "     ----- --------------------------------- 1.8/12.8 MB 117.2 kB/s eta 0:01:34\n",
      "     ----- --------------------------------- 1.8/12.8 MB 117.2 kB/s eta 0:01:34\n",
      "     ----- --------------------------------- 1.8/12.8 MB 117.2 kB/s eta 0:01:34\n",
      "     ----- --------------------------------- 1.8/12.8 MB 117.2 kB/s eta 0:01:34\n",
      "     ----- --------------------------------- 1.8/12.8 MB 117.2 kB/s eta 0:01:34\n",
      "     ----- --------------------------------- 1.8/12.8 MB 117.2 kB/s eta 0:01:34\n",
      "     ----- --------------------------------- 1.8/12.8 MB 117.2 kB/s eta 0:01:34\n",
      "     ------ -------------------------------- 2.1/12.8 MB 108.5 kB/s eta 0:01:39\n",
      "     ------ -------------------------------- 2.1/12.8 MB 108.5 kB/s eta 0:01:39\n",
      "     ------ -------------------------------- 2.1/12.8 MB 108.5 kB/s eta 0:01:39\n",
      "     ------ -------------------------------- 2.1/12.8 MB 108.5 kB/s eta 0:01:39\n",
      "     ------ -------------------------------- 2.1/12.8 MB 108.5 kB/s eta 0:01:39\n",
      "     ------ -------------------------------- 2.1/12.8 MB 108.5 kB/s eta 0:01:39\n",
      "     ------ -------------------------------- 2.1/12.8 MB 108.5 kB/s eta 0:01:39\n",
      "     ------ -------------------------------- 2.1/12.8 MB 108.5 kB/s eta 0:01:39\n",
      "     ------ -------------------------------- 2.1/12.8 MB 108.5 kB/s eta 0:01:39\n",
      "     ------ -------------------------------- 2.1/12.8 MB 108.5 kB/s eta 0:01:39\n",
      "     ------ -------------------------------- 2.1/12.8 MB 108.5 kB/s eta 0:01:39\n",
      "     ------ -------------------------------- 2.1/12.8 MB 108.5 kB/s eta 0:01:39\n",
      "     ------ -------------------------------- 2.1/12.8 MB 108.5 kB/s eta 0:01:39\n",
      "     ------- ------------------------------- 2.4/12.8 MB 105.8 kB/s eta 0:01:39\n",
      "     ------- ------------------------------- 2.4/12.8 MB 105.8 kB/s eta 0:01:39\n",
      "     ------- ------------------------------- 2.4/12.8 MB 105.8 kB/s eta 0:01:39\n",
      "     ------- ------------------------------- 2.4/12.8 MB 105.8 kB/s eta 0:01:39\n",
      "     ------- ------------------------------- 2.4/12.8 MB 105.8 kB/s eta 0:01:39\n",
      "     ------- ------------------------------- 2.4/12.8 MB 105.8 kB/s eta 0:01:39\n",
      "     ------- ------------------------------- 2.4/12.8 MB 105.8 kB/s eta 0:01:39\n",
      "     ------- ------------------------------- 2.4/12.8 MB 105.8 kB/s eta 0:01:39\n",
      "     ------- ------------------------------- 2.4/12.8 MB 105.8 kB/s eta 0:01:39\n",
      "     ------- ------------------------------- 2.4/12.8 MB 105.8 kB/s eta 0:01:39\n",
      "     ------- ------------------------------- 2.4/12.8 MB 105.8 kB/s eta 0:01:39\n",
      "     ------- ------------------------------- 2.4/12.8 MB 105.8 kB/s eta 0:01:39\n",
      "     ------- ------------------------------- 2.4/12.8 MB 105.8 kB/s eta 0:01:39\n",
      "     ------- ------------------------------- 2.6/12.8 MB 104.3 kB/s eta 0:01:38\n",
      "     ------- ------------------------------- 2.6/12.8 MB 104.3 kB/s eta 0:01:38\n",
      "     ------- ------------------------------- 2.6/12.8 MB 104.3 kB/s eta 0:01:38\n",
      "     ------- ------------------------------- 2.6/12.8 MB 104.3 kB/s eta 0:01:38\n",
      "     ------- ------------------------------- 2.6/12.8 MB 104.3 kB/s eta 0:01:38\n",
      "     ------- ------------------------------- 2.6/12.8 MB 104.3 kB/s eta 0:01:38\n",
      "     ------- ------------------------------- 2.6/12.8 MB 104.3 kB/s eta 0:01:38\n",
      "     ------- ------------------------------- 2.6/12.8 MB 104.3 kB/s eta 0:01:38\n",
      "     ------- ------------------------------- 2.6/12.8 MB 104.3 kB/s eta 0:01:38\n",
      "     ------- ------------------------------- 2.6/12.8 MB 104.3 kB/s eta 0:01:38\n",
      "     -------- ------------------------------ 2.9/12.8 MB 104.9 kB/s eta 0:01:35\n",
      "     -------- ------------------------------ 2.9/12.8 MB 104.9 kB/s eta 0:01:35\n",
      "     -------- ------------------------------ 2.9/12.8 MB 104.9 kB/s eta 0:01:35\n",
      "     -------- ------------------------------ 2.9/12.8 MB 104.9 kB/s eta 0:01:35\n",
      "     -------- ------------------------------ 2.9/12.8 MB 104.9 kB/s eta 0:01:35\n",
      "     -------- ------------------------------ 2.9/12.8 MB 104.9 kB/s eta 0:01:35\n",
      "     -------- ------------------------------ 2.9/12.8 MB 104.9 kB/s eta 0:01:35\n",
      "     -------- ------------------------------ 2.9/12.8 MB 104.9 kB/s eta 0:01:35\n",
      "     -------- ------------------------------ 2.9/12.8 MB 104.9 kB/s eta 0:01:35\n",
      "     -------- ------------------------------ 2.9/12.8 MB 104.9 kB/s eta 0:01:35\n",
      "     -------- ------------------------------ 2.9/12.8 MB 104.9 kB/s eta 0:01:35\n",
      "     -------- ------------------------------ 2.9/12.8 MB 104.9 kB/s eta 0:01:35\n",
      "     -------- ------------------------------ 2.9/12.8 MB 104.9 kB/s eta 0:01:35\n",
      "     -------- ------------------------------ 2.9/12.8 MB 104.9 kB/s eta 0:01:35\n",
      "     -------- ------------------------------ 2.9/12.8 MB 104.9 kB/s eta 0:01:35\n",
      "     --------- ----------------------------- 3.1/12.8 MB 102.4 kB/s eta 0:01:35\n",
      "     --------- ----------------------------- 3.1/12.8 MB 102.4 kB/s eta 0:01:35\n",
      "     --------- ----------------------------- 3.1/12.8 MB 102.4 kB/s eta 0:01:35\n",
      "     --------- ----------------------------- 3.1/12.8 MB 102.4 kB/s eta 0:01:35\n",
      "     --------- ----------------------------- 3.1/12.8 MB 102.4 kB/s eta 0:01:35\n",
      "     --------- ----------------------------- 3.1/12.8 MB 102.4 kB/s eta 0:01:35\n",
      "     --------- ----------------------------- 3.1/12.8 MB 102.4 kB/s eta 0:01:35\n",
      "     --------- ----------------------------- 3.1/12.8 MB 102.4 kB/s eta 0:01:35\n",
      "     --------- ----------------------------- 3.1/12.8 MB 102.4 kB/s eta 0:01:35\n",
      "     --------- ----------------------------- 3.1/12.8 MB 102.4 kB/s eta 0:01:35\n",
      "     --------- ----------------------------- 3.1/12.8 MB 102.4 kB/s eta 0:01:35\n",
      "     --------- ----------------------------- 3.1/12.8 MB 102.4 kB/s eta 0:01:35\n",
      "     --------- ----------------------------- 3.1/12.8 MB 102.4 kB/s eta 0:01:35\n",
      "     --------- ----------------------------- 3.1/12.8 MB 102.4 kB/s eta 0:01:35\n",
      "     ---------- ----------------------------- 3.4/12.8 MB 97.4 kB/s eta 0:01:37\n",
      "     ---------- ----------------------------- 3.4/12.8 MB 97.4 kB/s eta 0:01:37\n",
      "     ---------- ----------------------------- 3.4/12.8 MB 97.4 kB/s eta 0:01:37\n",
      "     ---------- ----------------------------- 3.4/12.8 MB 97.4 kB/s eta 0:01:37\n",
      "     ---------- ----------------------------- 3.4/12.8 MB 97.4 kB/s eta 0:01:37\n",
      "     ---------- ----------------------------- 3.4/12.8 MB 97.4 kB/s eta 0:01:37\n",
      "     ---------- ----------------------------- 3.4/12.8 MB 97.4 kB/s eta 0:01:37\n",
      "     ----------- ---------------------------- 3.7/12.8 MB 99.2 kB/s eta 0:01:33\n",
      "     ----------- ---------------------------- 3.7/12.8 MB 99.2 kB/s eta 0:01:33\n",
      "     ----------- ---------------------------- 3.7/12.8 MB 99.2 kB/s eta 0:01:33\n",
      "     ----------- ---------------------------- 3.7/12.8 MB 99.2 kB/s eta 0:01:33\n",
      "     ----------- ---------------------------- 3.7/12.8 MB 99.2 kB/s eta 0:01:33\n",
      "     ----------- ---------------------------- 3.7/12.8 MB 99.2 kB/s eta 0:01:33\n",
      "     ----------- ---------------------------- 3.7/12.8 MB 99.2 kB/s eta 0:01:33\n",
      "     ----------- ---------------------------- 3.7/12.8 MB 99.2 kB/s eta 0:01:33\n",
      "     ----------- ---------------------------- 3.7/12.8 MB 99.2 kB/s eta 0:01:33\n",
      "     ----------- ---------------------------- 3.7/12.8 MB 99.2 kB/s eta 0:01:33\n",
      "     ----------- ---------------------------- 3.7/12.8 MB 99.2 kB/s eta 0:01:33\n",
      "     ----------- ---------------------------- 3.7/12.8 MB 99.2 kB/s eta 0:01:33\n",
      "     ----------- ---------------------------- 3.7/12.8 MB 99.2 kB/s eta 0:01:33\n",
      "     ----------- ---------------------------- 3.7/12.8 MB 99.2 kB/s eta 0:01:33\n",
      "     ----------- ---------------------------- 3.7/12.8 MB 99.2 kB/s eta 0:01:33\n",
      "     ----------- ---------------------------- 3.7/12.8 MB 99.2 kB/s eta 0:01:33\n",
      "     ----------- ---------------------------- 3.7/12.8 MB 99.2 kB/s eta 0:01:33\n",
      "     ------------ --------------------------- 3.9/12.8 MB 96.2 kB/s eta 0:01:33\n",
      "     ------------ --------------------------- 3.9/12.8 MB 96.2 kB/s eta 0:01:33\n",
      "     ------------ --------------------------- 3.9/12.8 MB 96.2 kB/s eta 0:01:33\n",
      "     ------------ --------------------------- 3.9/12.8 MB 96.2 kB/s eta 0:01:33\n",
      "     ------------ --------------------------- 3.9/12.8 MB 96.2 kB/s eta 0:01:33\n",
      "     ------------ --------------------------- 3.9/12.8 MB 96.2 kB/s eta 0:01:33\n",
      "     ------------ --------------------------- 3.9/12.8 MB 96.2 kB/s eta 0:01:33\n",
      "     ------------ --------------------------- 3.9/12.8 MB 96.2 kB/s eta 0:01:33\n",
      "     ------------ --------------------------- 3.9/12.8 MB 96.2 kB/s eta 0:01:33\n",
      "     ------------- -------------------------- 4.2/12.8 MB 96.9 kB/s eta 0:01:29\n",
      "     ------------- -------------------------- 4.2/12.8 MB 96.9 kB/s eta 0:01:29\n",
      "     ------------- -------------------------- 4.2/12.8 MB 96.9 kB/s eta 0:01:29\n",
      "     ------------- -------------------------- 4.2/12.8 MB 96.9 kB/s eta 0:01:29\n",
      "     ------------- -------------------------- 4.2/12.8 MB 96.9 kB/s eta 0:01:29\n",
      "     ------------- -------------------------- 4.2/12.8 MB 96.9 kB/s eta 0:01:29\n",
      "     ------------- -------------------------- 4.2/12.8 MB 96.9 kB/s eta 0:01:29\n",
      "     ------------- -------------------------- 4.2/12.8 MB 96.9 kB/s eta 0:01:29\n",
      "     ------------- -------------------------- 4.2/12.8 MB 96.9 kB/s eta 0:01:29\n",
      "     ------------- -------------------------- 4.2/12.8 MB 96.9 kB/s eta 0:01:29\n",
      "     ------------- -------------------------- 4.5/12.8 MB 98.1 kB/s eta 0:01:26\n",
      "     ------------- -------------------------- 4.5/12.8 MB 98.1 kB/s eta 0:01:26\n",
      "     ------------- -------------------------- 4.5/12.8 MB 98.1 kB/s eta 0:01:26\n",
      "     ------------- -------------------------- 4.5/12.8 MB 98.1 kB/s eta 0:01:26\n",
      "     ------------- -------------------------- 4.5/12.8 MB 98.1 kB/s eta 0:01:26\n",
      "     ------------- -------------------------- 4.5/12.8 MB 98.1 kB/s eta 0:01:26\n",
      "     ------------- -------------------------- 4.5/12.8 MB 98.1 kB/s eta 0:01:26\n",
      "     ------------- -------------------------- 4.5/12.8 MB 98.1 kB/s eta 0:01:26\n",
      "     ------------- -------------------------- 4.5/12.8 MB 98.1 kB/s eta 0:01:26\n",
      "     ------------- -------------------------- 4.5/12.8 MB 98.1 kB/s eta 0:01:26\n",
      "     ------------- -------------------------- 4.5/12.8 MB 98.1 kB/s eta 0:01:26\n",
      "     ------------- -------------------------- 4.5/12.8 MB 98.1 kB/s eta 0:01:26\n",
      "     ------------- -------------------------- 4.5/12.8 MB 98.1 kB/s eta 0:01:26\n",
      "     ------------- -------------------------- 4.5/12.8 MB 98.1 kB/s eta 0:01:26\n",
      "     -------------- ------------------------- 4.7/12.8 MB 96.1 kB/s eta 0:01:25\n",
      "     -------------- ------------------------- 4.7/12.8 MB 96.1 kB/s eta 0:01:25\n",
      "     -------------- ------------------------- 4.7/12.8 MB 96.1 kB/s eta 0:01:25\n",
      "     -------------- ------------------------- 4.7/12.8 MB 96.1 kB/s eta 0:01:25\n",
      "     -------------- ------------------------- 4.7/12.8 MB 96.1 kB/s eta 0:01:25\n",
      "     -------------- ------------------------- 4.7/12.8 MB 96.1 kB/s eta 0:01:25\n",
      "     -------------- ------------------------- 4.7/12.8 MB 96.1 kB/s eta 0:01:25\n",
      "     -------------- ------------------------- 4.7/12.8 MB 96.1 kB/s eta 0:01:25\n",
      "     -------------- ------------------------- 4.7/12.8 MB 96.1 kB/s eta 0:01:25\n",
      "     -------------- ------------------------- 4.7/12.8 MB 96.1 kB/s eta 0:01:25\n",
      "     -------------- ------------------------- 4.7/12.8 MB 96.1 kB/s eta 0:01:25\n",
      "     -------------- ------------------------- 4.7/12.8 MB 96.1 kB/s eta 0:01:25\n",
      "     -------------- ------------------------- 4.7/12.8 MB 96.1 kB/s eta 0:01:25\n",
      "     -------------- ------------------------- 4.7/12.8 MB 96.1 kB/s eta 0:01:25\n",
      "     -------------- ------------------------- 4.7/12.8 MB 96.1 kB/s eta 0:01:25\n",
      "     -------------- ------------------------- 4.7/12.8 MB 96.1 kB/s eta 0:01:25\n",
      "     -------------- ------------------------- 4.7/12.8 MB 96.1 kB/s eta 0:01:25\n",
      "     -------------- ------------------------- 4.7/12.8 MB 96.1 kB/s eta 0:01:25\n",
      "     -------------- ------------------------- 4.7/12.8 MB 96.1 kB/s eta 0:01:25\n",
      "     -------------- ------------------------- 4.7/12.8 MB 96.1 kB/s eta 0:01:25\n",
      "     -------------- ------------------------- 4.7/12.8 MB 96.1 kB/s eta 0:01:25\n",
      "     --------------- ------------------------ 5.0/12.8 MB 93.3 kB/s eta 0:01:24\n",
      "     --------------- ------------------------ 5.0/12.8 MB 93.3 kB/s eta 0:01:24\n",
      "     --------------- ------------------------ 5.0/12.8 MB 93.3 kB/s eta 0:01:24\n",
      "     --------------- ------------------------ 5.0/12.8 MB 93.3 kB/s eta 0:01:24\n",
      "     --------------- ------------------------ 5.0/12.8 MB 93.3 kB/s eta 0:01:24\n",
      "     --------------- ------------------------ 5.0/12.8 MB 93.3 kB/s eta 0:01:24\n",
      "     --------------- ------------------------ 5.0/12.8 MB 93.3 kB/s eta 0:01:24\n",
      "     --------------- ------------------------ 5.0/12.8 MB 93.3 kB/s eta 0:01:24\n",
      "     --------------- ------------------------ 5.0/12.8 MB 93.3 kB/s eta 0:01:24\n",
      "     --------------- ------------------------ 5.0/12.8 MB 93.3 kB/s eta 0:01:24\n",
      "     --------------- ------------------------ 5.0/12.8 MB 93.3 kB/s eta 0:01:24\n",
      "     --------------- ------------------------ 5.0/12.8 MB 93.3 kB/s eta 0:01:24\n",
      "     --------------- ------------------------ 5.0/12.8 MB 93.3 kB/s eta 0:01:24\n",
      "     ---------------- ----------------------- 5.2/12.8 MB 93.1 kB/s eta 0:01:22\n",
      "     ---------------- ----------------------- 5.2/12.8 MB 93.1 kB/s eta 0:01:22\n",
      "     ---------------- ----------------------- 5.2/12.8 MB 93.1 kB/s eta 0:01:22\n",
      "     ---------------- ----------------------- 5.2/12.8 MB 93.1 kB/s eta 0:01:22\n",
      "     ---------------- ----------------------- 5.2/12.8 MB 93.1 kB/s eta 0:01:22\n",
      "     ---------------- ----------------------- 5.2/12.8 MB 93.1 kB/s eta 0:01:22\n",
      "     ---------------- ----------------------- 5.2/12.8 MB 93.1 kB/s eta 0:01:22\n",
      "     ---------------- ----------------------- 5.2/12.8 MB 93.1 kB/s eta 0:01:22\n",
      "     ---------------- ----------------------- 5.2/12.8 MB 93.1 kB/s eta 0:01:22\n",
      "     ---------------- ----------------------- 5.2/12.8 MB 93.1 kB/s eta 0:01:22\n",
      "     ----------------- ---------------------- 5.5/12.8 MB 94.1 kB/s eta 0:01:18\n",
      "     ----------------- ---------------------- 5.5/12.8 MB 94.1 kB/s eta 0:01:18\n",
      "     ----------------- ---------------------- 5.5/12.8 MB 94.1 kB/s eta 0:01:18\n",
      "     ----------------- ---------------------- 5.5/12.8 MB 94.1 kB/s eta 0:01:18\n",
      "     ----------------- ---------------------- 5.5/12.8 MB 94.1 kB/s eta 0:01:18\n",
      "     ----------------- ---------------------- 5.5/12.8 MB 94.1 kB/s eta 0:01:18\n",
      "     ----------------- ---------------------- 5.5/12.8 MB 94.1 kB/s eta 0:01:18\n",
      "     ----------------- ---------------------- 5.5/12.8 MB 94.1 kB/s eta 0:01:18\n",
      "     ----------------- ---------------------- 5.5/12.8 MB 94.1 kB/s eta 0:01:18\n",
      "     ----------------- ---------------------- 5.5/12.8 MB 94.1 kB/s eta 0:01:18\n",
      "     ----------------- ---------------------- 5.5/12.8 MB 94.1 kB/s eta 0:01:18\n",
      "     ----------------- ---------------------- 5.5/12.8 MB 94.1 kB/s eta 0:01:18\n",
      "     ----------------- ---------------------- 5.5/12.8 MB 94.1 kB/s eta 0:01:18\n",
      "     ----------------- ---------------------- 5.5/12.8 MB 94.1 kB/s eta 0:01:18\n",
      "     ----------------- ---------------------- 5.5/12.8 MB 94.1 kB/s eta 0:01:18\n",
      "     ------------------ --------------------- 5.8/12.8 MB 93.4 kB/s eta 0:01:16\n",
      "     ------------------ --------------------- 5.8/12.8 MB 93.4 kB/s eta 0:01:16\n",
      "     ------------------ --------------------- 5.8/12.8 MB 93.4 kB/s eta 0:01:16\n",
      "     ------------------ --------------------- 5.8/12.8 MB 93.4 kB/s eta 0:01:16\n",
      "     ------------------ --------------------- 5.8/12.8 MB 93.4 kB/s eta 0:01:16\n",
      "     ------------------ --------------------- 5.8/12.8 MB 93.4 kB/s eta 0:01:16\n",
      "     ------------------ --------------------- 5.8/12.8 MB 93.4 kB/s eta 0:01:16\n",
      "     ------------------ --------------------- 5.8/12.8 MB 93.4 kB/s eta 0:01:16\n",
      "     ------------------ --------------------- 5.8/12.8 MB 93.4 kB/s eta 0:01:16\n",
      "     ------------------ --------------------- 5.8/12.8 MB 93.4 kB/s eta 0:01:16\n",
      "     ------------------ --------------------- 5.8/12.8 MB 93.4 kB/s eta 0:01:16\n",
      "     ------------------ --------------------- 5.8/12.8 MB 93.4 kB/s eta 0:01:16\n",
      "     ------------------ --------------------- 5.8/12.8 MB 93.4 kB/s eta 0:01:16\n",
      "     ------------------ --------------------- 5.8/12.8 MB 93.4 kB/s eta 0:01:16\n",
      "     ------------------ --------------------- 6.0/12.8 MB 93.1 kB/s eta 0:01:13\n",
      "     ------------------ --------------------- 6.0/12.8 MB 93.1 kB/s eta 0:01:13\n",
      "     ------------------ --------------------- 6.0/12.8 MB 93.1 kB/s eta 0:01:13\n",
      "     ------------------ --------------------- 6.0/12.8 MB 93.1 kB/s eta 0:01:13\n",
      "     ------------------ --------------------- 6.0/12.8 MB 93.1 kB/s eta 0:01:13\n",
      "     ------------------ --------------------- 6.0/12.8 MB 93.1 kB/s eta 0:01:13\n",
      "     ------------------ --------------------- 6.0/12.8 MB 93.1 kB/s eta 0:01:13\n",
      "     ------------------ --------------------- 6.0/12.8 MB 93.1 kB/s eta 0:01:13\n",
      "     ------------------ --------------------- 6.0/12.8 MB 93.1 kB/s eta 0:01:13\n",
      "     ------------------ --------------------- 6.0/12.8 MB 93.1 kB/s eta 0:01:13\n",
      "     ------------------ --------------------- 6.0/12.8 MB 93.1 kB/s eta 0:01:13\n",
      "     ------------------ --------------------- 6.0/12.8 MB 93.1 kB/s eta 0:01:13\n",
      "     ------------------ --------------------- 6.0/12.8 MB 93.1 kB/s eta 0:01:13\n",
      "     ------------------ --------------------- 6.0/12.8 MB 93.1 kB/s eta 0:01:13\n",
      "     ------------------ --------------------- 6.0/12.8 MB 93.1 kB/s eta 0:01:13\n",
      "     ------------------ --------------------- 6.0/12.8 MB 93.1 kB/s eta 0:01:13\n",
      "     ------------------- -------------------- 6.3/12.8 MB 88.9 kB/s eta 0:01:14\n",
      "     ------------------- -------------------- 6.3/12.8 MB 88.9 kB/s eta 0:01:14\n",
      "     ------------------- -------------------- 6.3/12.8 MB 88.9 kB/s eta 0:01:14\n",
      "     ------------------- -------------------- 6.3/12.8 MB 88.9 kB/s eta 0:01:14\n",
      "     ------------------- -------------------- 6.3/12.8 MB 88.9 kB/s eta 0:01:14\n",
      "     ------------------- -------------------- 6.3/12.8 MB 88.9 kB/s eta 0:01:14\n",
      "     ------------------- -------------------- 6.3/12.8 MB 88.9 kB/s eta 0:01:14\n",
      "     ------------------- -------------------- 6.3/12.8 MB 88.9 kB/s eta 0:01:14\n",
      "     ------------------- -------------------- 6.3/12.8 MB 88.9 kB/s eta 0:01:14\n",
      "     -------------------- ------------------- 6.6/12.8 MB 92.4 kB/s eta 0:01:08\n",
      "     -------------------- ------------------- 6.6/12.8 MB 92.4 kB/s eta 0:01:08\n",
      "     -------------------- ------------------- 6.6/12.8 MB 92.4 kB/s eta 0:01:08\n",
      "     -------------------- ------------------- 6.6/12.8 MB 92.4 kB/s eta 0:01:08\n",
      "     -------------------- ------------------- 6.6/12.8 MB 92.4 kB/s eta 0:01:08\n",
      "     -------------------- ------------------- 6.6/12.8 MB 92.4 kB/s eta 0:01:08\n",
      "     -------------------- ------------------- 6.6/12.8 MB 92.4 kB/s eta 0:01:08\n",
      "     -------------------- ------------------- 6.6/12.8 MB 92.4 kB/s eta 0:01:08\n",
      "     --------------------- ------------------ 6.8/12.8 MB 92.6 kB/s eta 0:01:05\n",
      "     --------------------- ------------------ 6.8/12.8 MB 92.6 kB/s eta 0:01:05\n",
      "     --------------------- ------------------ 6.8/12.8 MB 92.6 kB/s eta 0:01:05\n",
      "     --------------------- ------------------ 6.8/12.8 MB 92.6 kB/s eta 0:01:05\n",
      "     --------------------- ------------------ 6.8/12.8 MB 92.6 kB/s eta 0:01:05\n",
      "     --------------------- ------------------ 6.8/12.8 MB 92.6 kB/s eta 0:01:05\n",
      "     --------------------- ------------------ 6.8/12.8 MB 92.6 kB/s eta 0:01:05\n",
      "     --------------------- ------------------ 6.8/12.8 MB 92.6 kB/s eta 0:01:05\n",
      "     --------------------- ------------------ 6.8/12.8 MB 92.6 kB/s eta 0:01:05\n",
      "     --------------------- ------------------ 6.8/12.8 MB 92.6 kB/s eta 0:01:05\n",
      "     --------------------- ------------------ 6.8/12.8 MB 92.6 kB/s eta 0:01:05\n",
      "     ---------------------- ----------------- 7.1/12.8 MB 91.5 kB/s eta 0:01:03\n",
      "     ---------------------- ----------------- 7.1/12.8 MB 91.5 kB/s eta 0:01:03\n",
      "     ---------------------- ----------------- 7.1/12.8 MB 91.5 kB/s eta 0:01:03\n",
      "     ---------------------- ----------------- 7.1/12.8 MB 91.5 kB/s eta 0:01:03\n",
      "     ---------------------- ----------------- 7.1/12.8 MB 91.5 kB/s eta 0:01:03\n",
      "     ---------------------- ----------------- 7.1/12.8 MB 91.5 kB/s eta 0:01:03\n",
      "     ---------------------- ----------------- 7.3/12.8 MB 96.1 kB/s eta 0:00:57\n",
      "     ---------------------- ----------------- 7.3/12.8 MB 96.1 kB/s eta 0:00:57\n",
      "     ---------------------- ----------------- 7.3/12.8 MB 96.1 kB/s eta 0:00:57\n",
      "     ---------------------- ----------------- 7.3/12.8 MB 96.1 kB/s eta 0:00:57\n",
      "     ---------------------- ----------------- 7.3/12.8 MB 96.1 kB/s eta 0:00:57\n",
      "     ---------------------- ----------------- 7.3/12.8 MB 96.1 kB/s eta 0:00:57\n",
      "     ---------------------- ----------------- 7.3/12.8 MB 96.1 kB/s eta 0:00:57\n",
      "     ---------------------- ----------------- 7.3/12.8 MB 96.1 kB/s eta 0:00:57\n",
      "     ---------------------- ----------------- 7.3/12.8 MB 96.1 kB/s eta 0:00:57\n",
      "     ---------------------- ----------------- 7.3/12.8 MB 96.1 kB/s eta 0:00:57\n",
      "     ---------------------- ----------------- 7.3/12.8 MB 96.1 kB/s eta 0:00:57\n",
      "     ---------------------- ----------------- 7.3/12.8 MB 96.1 kB/s eta 0:00:57\n",
      "     ---------------------- ----------------- 7.3/12.8 MB 96.1 kB/s eta 0:00:57\n",
      "     ---------------------- ----------------- 7.3/12.8 MB 96.1 kB/s eta 0:00:57\n",
      "     ---------------------- ----------------- 7.3/12.8 MB 96.1 kB/s eta 0:00:57\n",
      "     ----------------------- --------------- 7.6/12.8 MB 102.4 kB/s eta 0:00:51\n",
      "     ----------------------- --------------- 7.6/12.8 MB 102.4 kB/s eta 0:00:51\n",
      "     ----------------------- --------------- 7.6/12.8 MB 102.4 kB/s eta 0:00:51\n",
      "     ----------------------- --------------- 7.6/12.8 MB 102.4 kB/s eta 0:00:51\n",
      "     ----------------------- --------------- 7.6/12.8 MB 102.4 kB/s eta 0:00:51\n",
      "     ----------------------- --------------- 7.6/12.8 MB 102.4 kB/s eta 0:00:51\n",
      "     ----------------------- --------------- 7.6/12.8 MB 102.4 kB/s eta 0:00:51\n",
      "     ----------------------- --------------- 7.6/12.8 MB 102.4 kB/s eta 0:00:51\n",
      "     ----------------------- --------------- 7.6/12.8 MB 102.4 kB/s eta 0:00:51\n",
      "     ----------------------- --------------- 7.6/12.8 MB 102.4 kB/s eta 0:00:51\n",
      "     ----------------------- --------------- 7.9/12.8 MB 104.3 kB/s eta 0:00:48\n",
      "     ----------------------- --------------- 7.9/12.8 MB 104.3 kB/s eta 0:00:48\n",
      "     ----------------------- --------------- 7.9/12.8 MB 104.3 kB/s eta 0:00:48\n",
      "     ----------------------- --------------- 7.9/12.8 MB 104.3 kB/s eta 0:00:48\n",
      "     ----------------------- --------------- 7.9/12.8 MB 104.3 kB/s eta 0:00:48\n",
      "     ----------------------- --------------- 7.9/12.8 MB 104.3 kB/s eta 0:00:48\n",
      "     ----------------------- --------------- 7.9/12.8 MB 104.3 kB/s eta 0:00:48\n",
      "     ----------------------- --------------- 7.9/12.8 MB 104.3 kB/s eta 0:00:48\n",
      "     ----------------------- --------------- 7.9/12.8 MB 104.3 kB/s eta 0:00:48\n",
      "     ----------------------- --------------- 7.9/12.8 MB 104.3 kB/s eta 0:00:48\n",
      "     ------------------------ -------------- 8.1/12.8 MB 105.2 kB/s eta 0:00:45\n",
      "     ------------------------ -------------- 8.1/12.8 MB 105.2 kB/s eta 0:00:45\n",
      "     ------------------------ -------------- 8.1/12.8 MB 105.2 kB/s eta 0:00:45\n",
      "     ------------------------ -------------- 8.1/12.8 MB 105.2 kB/s eta 0:00:45\n",
      "     ------------------------ -------------- 8.1/12.8 MB 105.2 kB/s eta 0:00:45\n",
      "     ------------------------ -------------- 8.1/12.8 MB 105.2 kB/s eta 0:00:45\n",
      "     ------------------------ -------------- 8.1/12.8 MB 105.2 kB/s eta 0:00:45\n",
      "     ------------------------- ------------- 8.4/12.8 MB 110.3 kB/s eta 0:00:41\n",
      "     ------------------------- ------------- 8.4/12.8 MB 110.3 kB/s eta 0:00:41\n",
      "     ------------------------- ------------- 8.4/12.8 MB 110.3 kB/s eta 0:00:41\n",
      "     ------------------------- ------------- 8.4/12.8 MB 110.3 kB/s eta 0:00:41\n",
      "     ------------------------- ------------- 8.4/12.8 MB 110.3 kB/s eta 0:00:41\n",
      "     -------------------------- ------------ 8.7/12.8 MB 115.2 kB/s eta 0:00:37\n",
      "     -------------------------- ------------ 8.7/12.8 MB 115.2 kB/s eta 0:00:37\n",
      "     -------------------------- ------------ 8.7/12.8 MB 115.2 kB/s eta 0:00:37\n",
      "     --------------------------- ----------- 8.9/12.8 MB 120.2 kB/s eta 0:00:33\n",
      "     --------------------------- ----------- 8.9/12.8 MB 120.2 kB/s eta 0:00:33\n",
      "     --------------------------- ----------- 8.9/12.8 MB 120.2 kB/s eta 0:00:33\n",
      "     --------------------------- ----------- 9.2/12.8 MB 126.6 kB/s eta 0:00:29\n",
      "     --------------------------- ----------- 9.2/12.8 MB 126.6 kB/s eta 0:00:29\n",
      "     --------------------------- ----------- 9.2/12.8 MB 126.6 kB/s eta 0:00:29\n",
      "     --------------------------- ----------- 9.2/12.8 MB 126.6 kB/s eta 0:00:29\n",
      "     ---------------------------- ---------- 9.4/12.8 MB 132.2 kB/s eta 0:00:26\n",
      "     ---------------------------- ---------- 9.4/12.8 MB 132.2 kB/s eta 0:00:26\n",
      "     ---------------------------- ---------- 9.4/12.8 MB 132.2 kB/s eta 0:00:26\n",
      "     ----------------------------- --------- 9.7/12.8 MB 145.5 kB/s eta 0:00:22\n",
      "     ----------------------------- --------- 9.7/12.8 MB 145.5 kB/s eta 0:00:22\n",
      "     ----------------------------- --------- 9.7/12.8 MB 145.5 kB/s eta 0:00:22\n",
      "     ----------------------------- -------- 10.0/12.8 MB 151.7 kB/s eta 0:00:19\n",
      "     ----------------------------- -------- 10.0/12.8 MB 151.7 kB/s eta 0:00:19\n",
      "     ------------------------------ ------- 10.2/12.8 MB 157.7 kB/s eta 0:00:17\n",
      "     ------------------------------ ------- 10.2/12.8 MB 157.7 kB/s eta 0:00:17\n",
      "     ------------------------------ ------- 10.2/12.8 MB 157.7 kB/s eta 0:00:17\n",
      "     ------------------------------- ------ 10.5/12.8 MB 163.6 kB/s eta 0:00:15\n",
      "     ------------------------------- ------ 10.5/12.8 MB 163.6 kB/s eta 0:00:15\n",
      "     ------------------------------- ------ 10.5/12.8 MB 163.6 kB/s eta 0:00:15\n",
      "     ------------------------------- ------ 10.5/12.8 MB 163.6 kB/s eta 0:00:15\n",
      "     ------------------------------- ------ 10.5/12.8 MB 163.6 kB/s eta 0:00:15\n",
      "     ------------------------------- ------ 10.5/12.8 MB 163.6 kB/s eta 0:00:15\n",
      "     ------------------------------- ------ 10.7/12.8 MB 173.3 kB/s eta 0:00:12\n",
      "     ------------------------------- ------ 10.7/12.8 MB 173.3 kB/s eta 0:00:12\n",
      "     ------------------------------- ------ 10.7/12.8 MB 173.3 kB/s eta 0:00:12\n",
      "     ------------------------------- ------ 10.7/12.8 MB 173.3 kB/s eta 0:00:12\n",
      "     ------------------------------- ------ 10.7/12.8 MB 173.3 kB/s eta 0:00:12\n",
      "     ------------------------------- ------ 10.7/12.8 MB 173.3 kB/s eta 0:00:12\n",
      "     ------------------------------- ------ 10.7/12.8 MB 173.3 kB/s eta 0:00:12\n",
      "     ------------------------------- ------ 10.7/12.8 MB 173.3 kB/s eta 0:00:12\n",
      "     ------------------------------- ------ 10.7/12.8 MB 173.3 kB/s eta 0:00:12\n",
      "     ------------------------------- ------ 10.7/12.8 MB 173.3 kB/s eta 0:00:12\n",
      "     ------------------------------- ------ 10.7/12.8 MB 173.3 kB/s eta 0:00:12\n",
      "     ------------------------------- ------ 10.7/12.8 MB 173.3 kB/s eta 0:00:12\n",
      "     ------------------------------- ------ 10.7/12.8 MB 173.3 kB/s eta 0:00:12\n",
      "     ------------------------------- ------ 10.7/12.8 MB 173.3 kB/s eta 0:00:12\n",
      "     ------------------------------- ------ 10.7/12.8 MB 173.3 kB/s eta 0:00:12\n",
      "     ------------------------------- ------ 10.7/12.8 MB 173.3 kB/s eta 0:00:12\n",
      "     ------------------------------- ------ 10.7/12.8 MB 173.3 kB/s eta 0:00:12\n",
      "     ------------------------------- ------ 10.7/12.8 MB 173.3 kB/s eta 0:00:12\n",
      "     ------------------------------- ------ 10.7/12.8 MB 173.3 kB/s eta 0:00:12\n",
      "     ------------------------------- ------ 10.7/12.8 MB 173.3 kB/s eta 0:00:12\n",
      "     ------------------------------- ------ 10.7/12.8 MB 173.3 kB/s eta 0:00:12\n",
      "     -------------------------------- ----- 11.0/12.8 MB 168.3 kB/s eta 0:00:11\n",
      "     -------------------------------- ----- 11.0/12.8 MB 168.3 kB/s eta 0:00:11\n",
      "     -------------------------------- ----- 11.0/12.8 MB 168.3 kB/s eta 0:00:11\n",
      "     -------------------------------- ----- 11.0/12.8 MB 168.3 kB/s eta 0:00:11\n",
      "     -------------------------------- ----- 11.0/12.8 MB 168.3 kB/s eta 0:00:11\n",
      "     -------------------------------- ----- 11.0/12.8 MB 168.3 kB/s eta 0:00:11\n",
      "     -------------------------------- ----- 11.0/12.8 MB 168.3 kB/s eta 0:00:11\n",
      "     -------------------------------- ----- 11.0/12.8 MB 168.3 kB/s eta 0:00:11\n",
      "     -------------------------------- ----- 11.0/12.8 MB 168.3 kB/s eta 0:00:11\n",
      "     -------------------------------- ----- 11.0/12.8 MB 168.3 kB/s eta 0:00:11\n",
      "     -------------------------------- ----- 11.0/12.8 MB 168.3 kB/s eta 0:00:11\n",
      "     -------------------------------- ----- 11.0/12.8 MB 168.3 kB/s eta 0:00:11\n",
      "     -------------------------------- ----- 11.0/12.8 MB 168.3 kB/s eta 0:00:11\n",
      "     -------------------------------- ----- 11.0/12.8 MB 168.3 kB/s eta 0:00:11\n",
      "     -------------------------------- ----- 11.0/12.8 MB 168.3 kB/s eta 0:00:11\n",
      "     --------------------------------- ---- 11.3/12.8 MB 160.0 kB/s eta 0:00:10\n",
      "     --------------------------------- ---- 11.3/12.8 MB 160.0 kB/s eta 0:00:10\n",
      "     --------------------------------- ---- 11.3/12.8 MB 160.0 kB/s eta 0:00:10\n",
      "     --------------------------------- ---- 11.3/12.8 MB 160.0 kB/s eta 0:00:10\n",
      "     --------------------------------- ---- 11.3/12.8 MB 160.0 kB/s eta 0:00:10\n",
      "     --------------------------------- ---- 11.3/12.8 MB 160.0 kB/s eta 0:00:10\n",
      "     --------------------------------- ---- 11.3/12.8 MB 160.0 kB/s eta 0:00:10\n",
      "     --------------------------------- ---- 11.3/12.8 MB 160.0 kB/s eta 0:00:10\n",
      "     --------------------------------- ---- 11.3/12.8 MB 160.0 kB/s eta 0:00:10\n",
      "     --------------------------------- ---- 11.3/12.8 MB 160.0 kB/s eta 0:00:10\n",
      "     --------------------------------- ---- 11.3/12.8 MB 160.0 kB/s eta 0:00:10\n",
      "     --------------------------------- ---- 11.3/12.8 MB 160.0 kB/s eta 0:00:10\n",
      "     --------------------------------- ---- 11.3/12.8 MB 160.0 kB/s eta 0:00:10\n",
      "     --------------------------------- ---- 11.3/12.8 MB 160.0 kB/s eta 0:00:10\n",
      "     ---------------------------------- --- 11.5/12.8 MB 158.2 kB/s eta 0:00:09\n",
      "     ---------------------------------- --- 11.5/12.8 MB 158.2 kB/s eta 0:00:09\n",
      "     ---------------------------------- --- 11.5/12.8 MB 158.2 kB/s eta 0:00:09\n",
      "     ---------------------------------- --- 11.5/12.8 MB 158.2 kB/s eta 0:00:09\n",
      "     ---------------------------------- --- 11.5/12.8 MB 158.2 kB/s eta 0:00:09\n",
      "     ---------------------------------- --- 11.5/12.8 MB 158.2 kB/s eta 0:00:09\n",
      "     ---------------------------------- --- 11.5/12.8 MB 158.2 kB/s eta 0:00:09\n",
      "     ---------------------------------- --- 11.5/12.8 MB 158.2 kB/s eta 0:00:09\n",
      "     ----------------------------------- -- 11.8/12.8 MB 157.8 kB/s eta 0:00:07\n",
      "     ----------------------------------- -- 11.8/12.8 MB 157.8 kB/s eta 0:00:07\n",
      "     ----------------------------------- -- 11.8/12.8 MB 157.8 kB/s eta 0:00:07\n",
      "     ----------------------------------- -- 11.8/12.8 MB 157.8 kB/s eta 0:00:07\n",
      "     ----------------------------------- -- 11.8/12.8 MB 157.8 kB/s eta 0:00:07\n",
      "     ----------------------------------- -- 11.8/12.8 MB 157.8 kB/s eta 0:00:07\n",
      "     ----------------------------------- -- 11.8/12.8 MB 157.8 kB/s eta 0:00:07\n",
      "     ----------------------------------- -- 11.8/12.8 MB 157.8 kB/s eta 0:00:07\n",
      "     ----------------------------------- -- 11.8/12.8 MB 157.8 kB/s eta 0:00:07\n",
      "     ----------------------------------- -- 11.8/12.8 MB 157.8 kB/s eta 0:00:07\n",
      "     ----------------------------------- -- 11.8/12.8 MB 157.8 kB/s eta 0:00:07\n",
      "     ----------------------------------- -- 11.8/12.8 MB 157.8 kB/s eta 0:00:07\n",
      "     ----------------------------------- -- 11.8/12.8 MB 157.8 kB/s eta 0:00:07\n",
      "     ----------------------------------- -- 11.8/12.8 MB 157.8 kB/s eta 0:00:07\n",
      "     ----------------------------------- -- 12.1/12.8 MB 158.3 kB/s eta 0:00:05\n",
      "     ----------------------------------- -- 12.1/12.8 MB 158.3 kB/s eta 0:00:05\n",
      "     ----------------------------------- -- 12.1/12.8 MB 158.3 kB/s eta 0:00:05\n",
      "     ----------------------------------- -- 12.1/12.8 MB 158.3 kB/s eta 0:00:05\n",
      "     ----------------------------------- -- 12.1/12.8 MB 158.3 kB/s eta 0:00:05\n",
      "     ----------------------------------- -- 12.1/12.8 MB 158.3 kB/s eta 0:00:05\n",
      "     ----------------------------------- -- 12.1/12.8 MB 158.3 kB/s eta 0:00:05\n",
      "     ----------------------------------- -- 12.1/12.8 MB 158.3 kB/s eta 0:00:05\n",
      "     ----------------------------------- -- 12.1/12.8 MB 158.3 kB/s eta 0:00:05\n",
      "     ----------------------------------- -- 12.1/12.8 MB 158.3 kB/s eta 0:00:05\n",
      "     ------------------------------------ - 12.3/12.8 MB 157.1 kB/s eta 0:00:04\n",
      "     ------------------------------------ - 12.3/12.8 MB 157.1 kB/s eta 0:00:04\n",
      "     ------------------------------------ - 12.3/12.8 MB 157.1 kB/s eta 0:00:04\n",
      "     ------------------------------------ - 12.3/12.8 MB 157.1 kB/s eta 0:00:04\n",
      "     ------------------------------------ - 12.3/12.8 MB 157.1 kB/s eta 0:00:04\n",
      "     ------------------------------------ - 12.3/12.8 MB 157.1 kB/s eta 0:00:04\n",
      "     ------------------------------------ - 12.3/12.8 MB 157.1 kB/s eta 0:00:04\n",
      "     ------------------------------------ - 12.3/12.8 MB 157.1 kB/s eta 0:00:04\n",
      "     ------------------------------------ - 12.3/12.8 MB 157.1 kB/s eta 0:00:04\n",
      "     ------------------------------------ - 12.3/12.8 MB 157.1 kB/s eta 0:00:04\n",
      "     ------------------------------------ - 12.3/12.8 MB 157.1 kB/s eta 0:00:04\n",
      "     ------------------------------------ - 12.3/12.8 MB 157.1 kB/s eta 0:00:04\n",
      "     ------------------------------------ - 12.3/12.8 MB 157.1 kB/s eta 0:00:04\n",
      "     -------------------------------------  12.6/12.8 MB 154.8 kB/s eta 0:00:02\n",
      "     -------------------------------------  12.6/12.8 MB 154.8 kB/s eta 0:00:02\n",
      "     -------------------------------------  12.6/12.8 MB 154.8 kB/s eta 0:00:02\n",
      "     -------------------------------------  12.6/12.8 MB 154.8 kB/s eta 0:00:02\n",
      "     -------------------------------------  12.6/12.8 MB 154.8 kB/s eta 0:00:02\n",
      "     -------------------------------------  12.6/12.8 MB 154.8 kB/s eta 0:00:02\n",
      "     -------------------------------------  12.6/12.8 MB 154.8 kB/s eta 0:00:02\n",
      "     -------------------------------------  12.6/12.8 MB 154.8 kB/s eta 0:00:02\n",
      "     -------------------------------------- 12.8/12.8 MB 151.2 kB/s eta 0:00:00\n",
      "Installing collected packages: en-core-web-sm\n",
      "Successfully installed en-core-web-sm-3.8.0\n",
      "\u001b[38;5;2m[+] Download and installation successful\u001b[0m\n",
      "You can now load the package via spacy.load('en_core_web_sm')\n"
     ]
    }
   ],
   "source": [
    "!python -m spacy download en_core_web_sm"
   ]
  },
  {
   "cell_type": "code",
   "execution_count": 75,
   "id": "1e9f7053-3ac9-41a1-a364-b48044864961",
   "metadata": {},
   "outputs": [
    {
     "data": {
      "text/plain": [
       "['tok2vec', 'tagger', 'parser', 'attribute_ruler', 'lemmatizer', 'ner']"
      ]
     },
     "execution_count": 75,
     "metadata": {},
     "output_type": "execute_result"
    }
   ],
   "source": [
    "nlp=spacy.load(\"en_core_web_sm\")\n",
    "nlp.pipe_names"
   ]
  },
  {
   "cell_type": "code",
   "execution_count": 77,
   "id": "37df03cf-4a32-4bd5-b446-055575ba522d",
   "metadata": {},
   "outputs": [
    {
     "data": {
      "text/plain": [
       "[('tok2vec', <spacy.pipeline.tok2vec.Tok2Vec at 0x2bad2657890>),\n",
       " ('tagger', <spacy.pipeline.tagger.Tagger at 0x2bad2657d10>),\n",
       " ('parser', <spacy.pipeline.dep_parser.DependencyParser at 0x2bad2be2500>),\n",
       " ('attribute_ruler',\n",
       "  <spacy.pipeline.attributeruler.AttributeRuler at 0x2bad22d5350>),\n",
       " ('lemmatizer', <spacy.lang.en.lemmatizer.EnglishLemmatizer at 0x2bad26fd4d0>),\n",
       " ('ner', <spacy.pipeline.ner.EntityRecognizer at 0x2bad2be25e0>)]"
      ]
     },
     "execution_count": 77,
     "metadata": {},
     "output_type": "execute_result"
    }
   ],
   "source": [
    "nlp.pipeline"
   ]
  },
  {
   "cell_type": "code",
   "execution_count": 85,
   "id": "0af7dab9-e29f-4163-9d44-39f2767950f1",
   "metadata": {},
   "outputs": [
    {
     "name": "stdout",
     "output_type": "stream",
     "text": [
      "Captain | PROPN | Captain\n",
      "america | PROPN | america\n",
      "ate | VERB | eat\n",
      "100 | NUM | 100\n",
      "$ | NUM | $\n",
      "of | ADP | of\n",
      "samosa | PROPN | samosa\n",
      ". | PUNCT | .\n",
      "Then | ADV | then\n",
      "he | PRON | he\n",
      "said | VERB | say\n",
      "I | PRON | I\n",
      "can | AUX | can\n",
      "do | VERB | do\n",
      "this | PRON | this\n",
      "all | DET | all\n",
      "day | NOUN | day\n",
      ". | PUNCT | .\n"
     ]
    }
   ],
   "source": [
    "doc=nlp(\"Captain america ate 100$ of samosa. Then he said I can do this all day.\")\n",
    "for token in doc:\n",
    "    print(token ,\"|\", token.pos_,\"|\",token.lemma_)"
   ]
  },
  {
   "cell_type": "code",
   "execution_count": 95,
   "id": "2d07bd48-4ba8-41fa-b589-c69940f90259",
   "metadata": {},
   "outputs": [
    {
     "name": "stdout",
     "output_type": "stream",
     "text": [
      "Tesla Inc ORG\n",
      "$45 billion MONEY\n"
     ]
    }
   ],
   "source": [
    "doc = nlp(\"Tesla Inc is going to acquire twitter for $45 billion\")\n",
    "for ent in doc.ents:\n",
    "    print(ent.text, ent.label_)"
   ]
  },
  {
   "cell_type": "code",
   "execution_count": 99,
   "id": "212b4161-0b4d-4063-8fe7-de3d114e5e76",
   "metadata": {},
   "outputs": [
    {
     "data": {
      "text/html": [
       "<span class=\"tex2jax_ignore\"><div class=\"entities\" style=\"line-height: 2.5; direction: ltr\">\n",
       "<mark class=\"entity\" style=\"background: #7aecec; padding: 0.45em 0.6em; margin: 0 0.25em; line-height: 1; border-radius: 0.35em;\">\n",
       "    Tesla Inc\n",
       "    <span style=\"font-size: 0.8em; font-weight: bold; line-height: 1; border-radius: 0.35em; vertical-align: middle; margin-left: 0.5rem\">ORG</span>\n",
       "</mark>\n",
       " is going to acquire twitter for \n",
       "<mark class=\"entity\" style=\"background: #e4e7d2; padding: 0.45em 0.6em; margin: 0 0.25em; line-height: 1; border-radius: 0.35em;\">\n",
       "    $45 billion\n",
       "    <span style=\"font-size: 0.8em; font-weight: bold; line-height: 1; border-radius: 0.35em; vertical-align: middle; margin-left: 0.5rem\">MONEY</span>\n",
       "</mark>\n",
       "</div></span>"
      ],
      "text/plain": [
       "<IPython.core.display.HTML object>"
      ]
     },
     "metadata": {},
     "output_type": "display_data"
    }
   ],
   "source": [
    "from spacy import displacy\n",
    "\n",
    "displacy.render(doc, style=\"ent\")"
   ]
  },
  {
   "cell_type": "code",
   "execution_count": 101,
   "id": "3e77e3f1-3e4e-4e70-88d4-d0b884935a2e",
   "metadata": {},
   "outputs": [
    {
     "data": {
      "text/plain": [
       "['ner']"
      ]
     },
     "execution_count": 101,
     "metadata": {},
     "output_type": "execute_result"
    }
   ],
   "source": [
    "source_nlp = spacy.load(\"en_core_web_sm\")\n",
    "\n",
    "nlp = spacy.blank(\"en\")\n",
    "nlp.add_pipe(\"ner\", source=source_nlp)\n",
    "nlp.pipe_names"
   ]
  },
  {
   "cell_type": "code",
   "execution_count": 103,
   "id": "d2b2c7de-1b59-4af7-9f7a-d7afc0bb17d9",
   "metadata": {},
   "outputs": [
    {
     "name": "stdout",
     "output_type": "stream",
     "text": [
      "Tesla Inc ORG\n",
      "$45 billion MONEY\n"
     ]
    }
   ],
   "source": [
    "doc = nlp(\"Tesla Inc is going to acquire twitter for $45 billion\")\n",
    "for ent in doc.ents:\n",
    "    print(ent.text, ent.label_)"
   ]
  },
  {
   "cell_type": "code",
   "execution_count": null,
   "id": "24157c44-c5cb-4205-9f5f-ec937f5763a1",
   "metadata": {},
   "outputs": [],
   "source": []
  }
 ],
 "metadata": {
  "kernelspec": {
   "display_name": "Python 3 (ipykernel)",
   "language": "python",
   "name": "python3"
  },
  "language_info": {
   "codemirror_mode": {
    "name": "ipython",
    "version": 3
   },
   "file_extension": ".py",
   "mimetype": "text/x-python",
   "name": "python",
   "nbconvert_exporter": "python",
   "pygments_lexer": "ipython3",
   "version": "3.12.7"
  }
 },
 "nbformat": 4,
 "nbformat_minor": 5
}
